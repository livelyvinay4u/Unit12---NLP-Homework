{
 "cells": [
  {
   "cell_type": "markdown",
   "id": "1bfa6574-9088-4c94-b33f-c48052fd696d",
   "metadata": {},
   "source": [
    "#Sentiment Analysis\n",
    "\n",
    "##Questions:\n",
    "###Q: Which coin had the highest mean positive score?\n",
    "\n",
    "A: Bitcoin (0.070000) as opposed to Ethereum (0.048850).\n",
    "\n",
    "###Q: Which coin had the highest compound score?\n",
    "\n",
    "A: Bitcoin (0.750600) as opposed to Ethereum (0.735100).\n",
    "\n",
    "###Q. Which coin had the highest positive score?\n",
    "\n",
    "A: Bitcoin (0.202000) as opposed to Ethereum (0.188000)."
   ]
  },
  {
   "cell_type": "code",
   "execution_count": null,
   "id": "bd34f536-5ebd-433d-a9b8-14a4af73b142",
   "metadata": {},
   "outputs": [],
   "source": []
  }
 ],
 "metadata": {
  "kernelspec": {
   "display_name": "Python 3 (ipykernel)",
   "language": "python",
   "name": "python3"
  },
  "language_info": {
   "codemirror_mode": {
    "name": "ipython",
    "version": 3
   },
   "file_extension": ".py",
   "mimetype": "text/x-python",
   "name": "python",
   "nbconvert_exporter": "python",
   "pygments_lexer": "ipython3",
   "version": "3.7.11"
  }
 },
 "nbformat": 4,
 "nbformat_minor": 5
}
